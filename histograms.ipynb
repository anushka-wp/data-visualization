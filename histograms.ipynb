{
 "cells": [
  {
   "cell_type": "markdown",
   "metadata": {},
   "source": [
    "Histogram - axvline, useful random functions, importing from dataset\n",
    "Dataset used = HeightWeight(hw), Zoo "
   ]
  },
  {
   "cell_type": "code",
   "execution_count": 1,
   "metadata": {},
   "outputs": [],
   "source": [
    "import numpy as np "
   ]
  },
  {
   "cell_type": "code",
   "execution_count": 2,
   "metadata": {},
   "outputs": [],
   "source": [
    "import pandas as pd"
   ]
  },
  {
   "cell_type": "code",
   "execution_count": 3,
   "metadata": {},
   "outputs": [],
   "source": [
    "import statistics as st"
   ]
  },
  {
   "cell_type": "code",
   "execution_count": 4,
   "metadata": {},
   "outputs": [],
   "source": [
    "import matplotlib.pyplot as plt "
   ]
  },
  {
   "cell_type": "code",
   "execution_count": 5,
   "metadata": {},
   "outputs": [],
   "source": [
    "import matplotlib.mlab as mlab "
   ]
  },
  {
   "cell_type": "code",
   "execution_count": 261,
   "metadata": {},
   "outputs": [
    {
     "data": {
      "text/plain": [
       "Text(0.5, 1.0, 'my very own histogram')"
      ]
     },
     "execution_count": 261,
     "metadata": {},
     "output_type": "execute_result"
    },
    {
     "data": {
      "image/png": "[encoded data removed]",
      "text/plain": [
       "<Figure size 432x288 with 1 Axes>"
      ]
     },
     "metadata": {
      "needs_background": "light"
     },
     "output_type": "display_data"
    }
   ],
   "source": [
    "\n",
    "x = [1,1,2,3,3,5,7,8,9,10,10,11,11,13,13,15,16,17,18,18,18,19,20,21,21,23,24,24,25,25,25,25,26,26,26,27,27,27,27,27,29\n",
    "     ,30,30,31,33,34,34,34,35,36,36,37,37,38,38,39,40,41,41,42,43,44,45,45,46,47,48,48,49,50,51,52,53,54,55,55,56,57,58\n",
    "     ,60,61,63,64,65,66,68,70,71,72,74,75,77,81,83,84,87,89,90,90,91]\n",
    "# x is the data items here ages of individuals \n",
    "\n",
    "\n",
    "\n",
    "plt.hist(x, bins=10, rwidth=0.86, color='c',alpha=0.98, orientation='vertical')\n",
    "# bins=[0,10,...90,99] note here we start from 0 as the minimum value is 1, very close to 0\n",
    "# if the min value is 20 we start from 20 \n",
    "\n",
    "\n",
    "\n",
    "\n",
    "plt.axvline(st.mean(x), color='blue', linestyle = 'dashed')\n",
    "plt.axvline(st.median(x), color='green', linestyle = 'dashed')\n",
    "plt.axvline(st.mode(x), color='red', linestyle = 'dashed')\n",
    "#axvline = add vertical line along the axes\n",
    "\n",
    "\n",
    "\n",
    "plt.grid(axis='y', alpha=0.6)\n",
    "\n",
    "\n",
    "#plt.text(39.8, 18, r'mean', color='blue')\n",
    "#plt.text(27, 12.5, r'median', color='green', fontsize=8)\n",
    "#plt.text(27.8, 18, r'mode', color='red')\n",
    "\n",
    "\n",
    "plt.legend(['mean', 'median', 'mode'], bbox_to_anchor=(1, 1), shadow=True)\n",
    "\n",
    "\n",
    "\n",
    "plt.xlim(0, 100)\n",
    "plt.ylim(0.0, 21.0)\n",
    "\n",
    "\n",
    "\n",
    "plt.xticks(fontsize=11) #0,20,...80 #also min(bins), max(bins) but didnt work here \n",
    "plt.yticks(fontsize=11)\n",
    "\n",
    "plt.xlabel('age', fontsize=11)\n",
    "plt.ylabel('frequency', fontsize=11)\n",
    "plt.title('my very own histogram', fontsize=11)"
   ]
  },
  {
   "cell_type": "code",
   "execution_count": 63,
   "metadata": {},
   "outputs": [
    {
     "data": {
      "text/plain": [
       "39.26"
      ]
     },
     "execution_count": 63,
     "metadata": {},
     "output_type": "execute_result"
    }
   ],
   "source": [
    "st.mean(x)"
   ]
  },
  {
   "cell_type": "code",
   "execution_count": 71,
   "metadata": {},
   "outputs": [
    {
     "data": {
      "text/plain": [
       "36.0"
      ]
     },
     "execution_count": 71,
     "metadata": {},
     "output_type": "execute_result"
    }
   ],
   "source": [
    "st.median(x)"
   ]
  },
  {
   "cell_type": "code",
   "execution_count": 72,
   "metadata": {},
   "outputs": [
    {
     "data": {
      "text/plain": [
       "27"
      ]
     },
     "execution_count": 72,
     "metadata": {},
     "output_type": "execute_result"
    }
   ],
   "source": [
    "st.mode(x)"
   ]
  },
  {
   "cell_type": "code",
   "execution_count": 121,
   "metadata": {},
   "outputs": [
    {
     "data": {
      "text/plain": [
       "23.719156474006066"
      ]
     },
     "execution_count": 121,
     "metadata": {},
     "output_type": "execute_result"
    }
   ],
   "source": [
    "st.stdev(x)"
   ]
  },
  {
   "cell_type": "code",
   "execution_count": 136,
   "metadata": {},
   "outputs": [
    {
     "data": {
      "text/plain": [
       "562.5983838383838"
      ]
     },
     "execution_count": 136,
     "metadata": {},
     "output_type": "execute_result"
    }
   ],
   "source": [
    "st.variance(x)"
   ]
  },
  {
   "cell_type": "code",
   "execution_count": 167,
   "metadata": {},
   "outputs": [
    {
     "data": {
      "text/plain": [
       "array([[-0.00287845,  1.08747423, -1.38627392,  0.66742397],\n",
       "       [-0.00585867,  1.16038711, -1.682012  ,  1.48073947]])"
      ]
     },
     "execution_count": 167,
     "metadata": {},
     "output_type": "execute_result"
    }
   ],
   "source": [
    "np.random.randn(2,4)"
   ]
  },
  {
   "cell_type": "code",
   "execution_count": 230,
   "metadata": {},
   "outputs": [
    {
     "data": {
      "text/plain": [
       "'\\n    random.random() - any float from 0.0 to 1.0\\n    random.randint(1,200) - 165\\n    random.choice([1,2,3]) - 2\\n    random.range(1,100,10) - 30\\n    random.shuffle([1,2,3,4]) - 3,1,2,4\\n    \\n    random.seed(321) - uses the number 321 as reference to generate next random number ?? \\n    random.gamma(shape, scale, size) - ???\\n    \\n    \\n'"
      ]
     },
     "execution_count": 230,
     "metadata": {},
     "output_type": "execute_result"
    }
   ],
   "source": [
    "'''\n",
    "    random.random() - any float from 0.0 to 1.0\n",
    "    random.randint(1,200) - 165\n",
    "    random.rand(5) - 0.4,0.44,... creates an array of specified value \n",
    "    random.choice([1,2,3]) - 2\n",
    "    random.range(1,100,10) - 30\n",
    "    random.shuffle([1,2,3,4]) - 3,1,2,4\n",
    "    \n",
    "    random.seed(321) - uses the number 321 as reference to generate next random number ?? \n",
    "    random.gamma(shape, scale, size) - ???\n",
    "    random.normal(loc=mean, scale= stdev, size=no. of samples) = r.n(26, 2, 50)\n",
    "    \n",
    "    \n",
    "'''"
   ]
  },
  {
   "cell_type": "code",
   "execution_count": 225,
   "metadata": {},
   "outputs": [
    {
     "data": {
      "text/plain": [
       "52"
      ]
     },
     "execution_count": 225,
     "metadata": {},
     "output_type": "execute_result"
    }
   ],
   "source": [
    "np.random.seed(789)\n",
    "np.random.randint(1,100)"
   ]
  },
  {
   "cell_type": "code",
   "execution_count": 28,
   "metadata": {},
   "outputs": [],
   "source": [
    "age = np.random.normal(loc=25, scale=3, size= 100)"
   ]
  },
  {
   "cell_type": "code",
   "execution_count": 29,
   "metadata": {},
   "outputs": [],
   "source": [
    "salary = np.random.normal(loc=27, scale=4, size=100)"
   ]
  },
  {
   "cell_type": "code",
   "execution_count": 30,
   "metadata": {},
   "outputs": [
    {
     "data": {
      "text/plain": [
       "array([22.18725662, 25.48677562, 33.34318469, 22.27298542, 21.76827858,\n",
       "       29.41519561, 22.8839032 , 15.51981363, 27.50320181, 22.05490528,\n",
       "       26.4908194 , 21.28973846, 25.54752603, 20.72373754, 26.7849519 ,\n",
       "       25.13078739, 31.72349644, 25.68270695, 27.6376968 , 25.05683473,\n",
       "       29.15535806, 26.25569304, 26.83935788, 23.78408548, 26.10412957,\n",
       "       29.91163473, 20.36469288, 24.97866859, 24.16764093, 22.36327219,\n",
       "       25.39869691, 25.05407398, 21.8449105 , 23.46376655, 21.0410763 ,\n",
       "       24.34328329, 24.36470861, 22.91723523, 25.87714511, 27.10106651,\n",
       "       21.70139845, 22.40160952, 29.09713421, 25.13588585, 27.00952106,\n",
       "       25.04848539, 19.17183986, 22.53342348, 31.44824827, 21.20791248,\n",
       "       23.30247561, 21.37597801, 28.04943509, 22.66030017, 26.24166485,\n",
       "       25.94872803, 28.48941427, 26.28059798, 25.5200253 , 27.93332743,\n",
       "       26.79512374, 24.16138244, 25.0938655 , 22.8306308 , 24.47095754,\n",
       "       22.65196299, 23.60766752, 29.98988133, 24.05384618, 29.9085532 ,\n",
       "       24.44075687, 23.96588136, 22.10450155, 15.06863518, 24.97492029,\n",
       "       27.69005484, 23.48250218, 22.73774794, 20.68581367, 22.93029714,\n",
       "       23.14950329, 27.72304488, 22.22639792, 17.88435162, 24.15942955,\n",
       "       27.64177971, 20.6774749 , 29.08494036, 26.44766482, 28.28226089,\n",
       "       27.96459719, 27.57554503, 26.81612369, 33.53945796, 27.285517  ,\n",
       "       21.97053129, 26.07059152, 27.47342955, 27.3394525 , 24.27760439])"
      ]
     },
     "execution_count": 30,
     "metadata": {},
     "output_type": "execute_result"
    }
   ],
   "source": [
    "age"
   ]
  },
  {
   "cell_type": "code",
   "execution_count": 19,
   "metadata": {},
   "outputs": [
    {
     "data": {
      "text/plain": [
       "array([25.77994713, 34.75462914, 22.63310115, 17.21618344, 22.6388447 ,\n",
       "       25.56930181, 25.03185373, 30.33116703, 29.63057206, 23.63020043,\n",
       "       23.47212849, 25.78227626, 24.14141055, 17.03298873, 23.32181042,\n",
       "       15.245204  , 17.0469176 , 15.1257726 , 27.3978698 , 26.40757737,\n",
       "       22.45797124, 21.88780651, 22.95996272, 19.37625243, 27.1508675 ,\n",
       "       26.81181237, 16.8120636 , 22.32417662, 20.57157931, 13.95273129,\n",
       "       22.65044423, 30.1666728 , 26.17936465, 23.64016957, 23.62300906,\n",
       "       24.96441631, 22.30856116, 19.65974376, 25.95699544, 23.28139152,\n",
       "       22.02544686, 31.44617531, 26.37575042, 28.92517075, 21.21202829,\n",
       "       29.05022703, 20.08551242, 21.06375427, 26.62722803, 26.24133384])"
      ]
     },
     "execution_count": 19,
     "metadata": {},
     "output_type": "execute_result"
    }
   ],
   "source": [
    "salary"
   ]
  },
  {
   "cell_type": "code",
   "execution_count": 31,
   "metadata": {},
   "outputs": [
    {
     "data": {
      "text/plain": [
       "(array([ 3.,  3., 16., 17., 27., 10., 18.,  3.,  3.]),\n",
       " array([15.14221305, 17.53122648, 19.9202399 , 22.30925333, 24.69826676,\n",
       "        27.08728019, 29.47629362, 31.86530705, 34.25432047, 36.6433339 ]),\n",
       " <a list of 9 Patch objects>)"
      ]
     },
     "execution_count": 31,
     "metadata": {},
     "output_type": "execute_result"
    },
    {
     "data": {
      "image/png": "[encoded data removed]",
      "text/plain": [
       "<Figure size 432x288 with 1 Axes>"
      ]
     },
     "metadata": {
      "needs_background": "light"
     },
     "output_type": "display_data"
    }
   ],
   "source": [
    "plt.hist(age, bins='auto', rwidth=0.86)\n",
    "plt.hist(salary, bins='auto', rwidth=0.86)"
   ]
  },
  {
   "cell_type": "code",
   "execution_count": 36,
   "metadata": {},
   "outputs": [
    {
     "data": {
      "text/plain": [
       "<matplotlib.legend.Legend at 0x1fcff5c3f88>"
      ]
     },
     "execution_count": 36,
     "metadata": {},
     "output_type": "execute_result"
    },
    {
     "data": {
      "image/png": "[encoded data removed]",
      "text/plain": [
       "<Figure size 432x288 with 1 Axes>"
      ]
     },
     "metadata": {
      "needs_background": "light"
     },
     "output_type": "display_data"
    }
   ],
   "source": [
    "bins = np.linspace(15,40,10)\n",
    "plt.hist([age, salary], bins, alpha=0.5)\n",
    "plt.legend(['age', 'salary'])"
   ]
  },
  {
   "cell_type": "code",
   "execution_count": 5,
   "metadata": {},
   "outputs": [],
   "source": [
    "hw = pd.read_csv('hw.csv') "
   ]
  },
  {
   "cell_type": "code",
   "execution_count": 52,
   "metadata": {},
   "outputs": [
    {
     "data": {
      "text/plain": [
       "78.99874234638959"
      ]
     },
     "execution_count": 52,
     "metadata": {},
     "output_type": "execute_result"
    }
   ],
   "source": [
    "hw['Height'].max()"
   ]
  },
  {
   "cell_type": "code",
   "execution_count": 60,
   "metadata": {},
   "outputs": [
    {
     "data": {
      "text/plain": [
       "<matplotlib.legend.Legend at 0x1fc81b09f88>"
      ]
     },
     "execution_count": 60,
     "metadata": {},
     "output_type": "execute_result"
    },
    {
     "data": {
      "image/png": "[encoded data removed]",
      "text/plain": [
       "<Figure size 432x288 with 1 Axes>"
      ]
     },
     "metadata": {
      "needs_background": "light"
     },
     "output_type": "display_data"
    }
   ],
   "source": [
    "#not recommended \n",
    "plt.hist(hw['Height'], bins='auto', rwidth=0.86)\n",
    "plt.hist(hw['Weight'], bins='auto', rwidth=0.86)\n",
    "plt.legend(['height', 'weight'])"
   ]
  },
  {
   "cell_type": "code",
   "execution_count": 65,
   "metadata": {},
   "outputs": [
    {
     "data": {
      "text/plain": [
       "<matplotlib.axes._subplots.AxesSubplot at 0x1fc82d0f5c8>"
      ]
     },
     "execution_count": 65,
     "metadata": {},
     "output_type": "execute_result"
    },
    {
     "data": {
      "image/png": "[encoded data removed]",
      "text/plain": [
       "<Figure size 432x288 with 1 Axes>"
      ]
     },
     "metadata": {
      "needs_background": "light"
     },
     "output_type": "display_data"
    }
   ],
   "source": [
    "#not recom.\n",
    "h= np.linspace(54, 78, 20)\n",
    "w= np.linspace(54, 100, 20)\n",
    "hw['Height'].plot(kind='hist', bins=h)\n",
    "hw['Weight'].plot(kind='hist', bins=w)"
   ]
  },
  {
   "cell_type": "code",
   "execution_count": 62,
   "metadata": {},
   "outputs": [
    {
     "data": {
      "text/plain": [
       "269.989698505106"
      ]
     },
     "execution_count": 62,
     "metadata": {},
     "output_type": "execute_result"
    }
   ],
   "source": [
    "hw['Weight'].max()"
   ]
  },
  {
   "cell_type": "code",
   "execution_count": null,
   "metadata": {},
   "outputs": [],
   "source": [
    "h1 = hw['Height'].head(50).sort_values(ascending=True).reset_index(drop=True)"
   ]
  },
  {
   "cell_type": "code",
   "execution_count": null,
   "metadata": {},
   "outputs": [],
   "source": [
    "plt.hist(h1, bins=[60,63,66,69,72,75,78], rwidth=0.89, color='b')"
   ]
  },
  {
   "cell_type": "code",
   "execution_count": 7,
   "metadata": {},
   "outputs": [
    {
     "data": {
      "text/plain": [
       "(array([2., 0., 4., 1., 5., 1., 4., 0., 2., 3.]),\n",
       " array([ 80., 132., 184., 236., 288., 340., 392., 444., 496., 548., 600.]),\n",
       " <a list of 10 Patch objects>)"
      ]
     },
     "execution_count": 7,
     "metadata": {},
     "output_type": "execute_result"
    },
    {
     "data": {
      "image/png": "[encoded data removed]",
      "text/plain": [
       "<Figure size 432x288 with 1 Axes>"
      ]
     },
     "metadata": {
      "needs_background": "light"
     },
     "output_type": "display_data"
    }
   ],
   "source": [
    "#recommended \n",
    "zoo = pd.read_csv('zoo.csv')\n",
    "plt.hist('water_need', data = zoo)"
   ]
  }
 ],
 "metadata": {
  "kernelspec": {
   "display_name": "Python 3",
   "language": "python",
   "name": "python3"
  },
  "language_info": {
   "codemirror_mode": {
    "name": "ipython",
    "version": 3
   },
   "file_extension": ".py",
   "mimetype": "text/x-python",
   "name": "python",
   "nbconvert_exporter": "python",
   "pygments_lexer": "ipython3",
   "version": "3.7.4"
  }
 },
 "nbformat": 4,
 "nbformat_minor": 2
}
