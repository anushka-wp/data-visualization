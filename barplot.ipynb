{
 "cells": [
  {
   "cell_type": "markdown",
   "metadata": {},
   "source": [
    "# Bar plots  "
   ]
  },
  {
   "cell_type": "code",
   "execution_count": 1,
   "metadata": {},
   "outputs": [],
   "source": [
    "import numpy as np"
   ]
  },
  {
   "cell_type": "code",
   "execution_count": 6,
   "metadata": {},
   "outputs": [],
   "source": [
    "import matplotlib.pyplot as plt "
   ]
  },
  {
   "cell_type": "code",
   "execution_count": 7,
   "metadata": {},
   "outputs": [],
   "source": [
    "import matplotlib.spines as sp"
   ]
  },
  {
   "cell_type": "code",
   "execution_count": 3,
   "metadata": {},
   "outputs": [],
   "source": [
    "import pandas as pd"
   ]
  },
  {
   "cell_type": "code",
   "execution_count": 8,
   "metadata": {},
   "outputs": [
    {
     "data": {
      "image/png": "[encoded data removed]",
      "text/plain": [
       "<Figure size 432x288 with 1 Axes>"
      ]
     },
     "metadata": {
      "needs_background": "light"
     },
     "output_type": "display_data"
    }
   ],
   "source": [
    "x = ['cs', 'it', 'civil']\n",
    "y= [12, 19.7, 10]\n",
    "\n",
    "bar_width=0.3\n",
    "plt.bar(x,y, bar_width, edgecolor='black', linewidth=2)\n",
    "plt.legend(['sectors'])\n",
    "plt.ylabel('no of employees')\n",
    "plt.grid(axis='y', alpha=0.32)\n",
    "\n",
    "#use bar_width variable outside \n",
    "#use width = 0.6 inside the ()"
   ]
  },
  {
   "cell_type": "code",
   "execution_count": 17,
   "metadata": {},
   "outputs": [
    {
     "data": {
      "text/plain": [
       "Text(0, 0.5, 'usage')"
      ]
     },
     "execution_count": 17,
     "metadata": {},
     "output_type": "execute_result"
    },
    {
     "data": {
      "image/png": "[encoded data removed]",
      "text/plain": [
       "<Figure size 432x288 with 1 Axes>"
      ]
     },
     "metadata": {
      "needs_background": "light"
     },
     "output_type": "display_data"
    }
   ],
   "source": [
    "lang = ('Python', 'C++', 'Java', 'Perl', 'Scala', 'Lisp', 'Ruby') #6 \n",
    "usage = [10,8,6,4,2,2,1]\n",
    "\n",
    "fig = plt.bar(lang, usage, edgecolor='green', linewidth=2)\n",
    "plt.grid(axis='y', alpha=0.3)\n",
    "plt.title('Languages')\n",
    "plt.ylabel('usage', fontsize=13)\n"
   ]
  },
  {
   "cell_type": "code",
   "execution_count": 142,
   "metadata": {},
   "outputs": [
    {
     "data": {
      "image/png": "[encoded data removed]",
      "text/plain": [
       "<Figure size 432x288 with 1 Axes>"
      ]
     },
     "metadata": {
      "needs_background": "light"
     },
     "output_type": "display_data"
    }
   ],
   "source": [
    "no_games = 4 \n",
    "brazil = [2, 4, 1, 6]\n",
    "spain = [5, 1, 2, 3]\n",
    "scotland = [1, 4, 5, 2]\n",
    "bar_width = 0.27\n",
    "x_gap = 0.32\n",
    "index = np.arange(no_games) #0,1,2,3\n",
    "\n",
    "rect1 = plt.bar(index, brazil, bar_width, color='green', alpha=0.7, label='Brazil', edgecolor='black' )\n",
    "rect2 = plt.bar(index+bar_width, spain, bar_width, color='red', alpha=0.89, label='Spain', edgecolor= 'black')\n",
    "rect3 = plt.bar(index+bar_width+bar_width, scotland, bar_width, color='blue', alpha=0.89, label='Scotland', edgecolor= 'black')\n",
    "\n",
    "plt.legend(bbox_to_anchor=(1,1), shadow=True)\n",
    "\n",
    "plt.ylabel('No of goals')\n",
    "plt.xticks((index+x_gap), ('M1', 'M2', 'M3', 'M4'))\n",
    "\n",
    "plt.grid(axis='y', alpha=0.35)\n"
   ]
  },
  {
   "cell_type": "code",
   "execution_count": null,
   "metadata": {},
   "outputs": [],
   "source": [
    "#working on a dataset "
   ]
  },
  {
   "cell_type": "code",
   "execution_count": 176,
   "metadata": {},
   "outputs": [],
   "source": [
    "df = pd.read_csv('hw.csv')\n",
    "data = df.sample(10).reset_index(drop=True)\n",
    "d1 = data.sort_values(by='Weight',ascending=True)\n",
    "d1.to_csv('sampledata.csv')"
   ]
  },
  {
   "cell_type": "code",
   "execution_count": 177,
   "metadata": {},
   "outputs": [
    {
     "data": {
      "text/html": [
       "<div>\n",
       "<style scoped>\n",
       "    .dataframe tbody tr th:only-of-type {\n",
       "        vertical-align: middle;\n",
       "    }\n",
       "\n",
       "    .dataframe tbody tr th {\n",
       "        vertical-align: top;\n",
       "    }\n",
       "\n",
       "    .dataframe thead th {\n",
       "        text-align: right;\n",
       "    }\n",
       "</style>\n",
       "<table border=\"1\" class=\"dataframe\">\n",
       "  <thead>\n",
       "    <tr style=\"text-align: right;\">\n",
       "      <th></th>\n",
       "      <th>Unnamed: 0</th>\n",
       "      <th>Gender</th>\n",
       "      <th>Height</th>\n",
       "      <th>Weight</th>\n",
       "    </tr>\n",
       "  </thead>\n",
       "  <tbody>\n",
       "    <tr>\n",
       "      <td>0</td>\n",
       "      <td>5</td>\n",
       "      <td>Female</td>\n",
       "      <td>58.632720</td>\n",
       "      <td>102.469087</td>\n",
       "    </tr>\n",
       "    <tr>\n",
       "      <td>1</td>\n",
       "      <td>6</td>\n",
       "      <td>Female</td>\n",
       "      <td>62.020105</td>\n",
       "      <td>122.153980</td>\n",
       "    </tr>\n",
       "    <tr>\n",
       "      <td>2</td>\n",
       "      <td>4</td>\n",
       "      <td>Female</td>\n",
       "      <td>62.396154</td>\n",
       "      <td>127.032748</td>\n",
       "    </tr>\n",
       "    <tr>\n",
       "      <td>3</td>\n",
       "      <td>8</td>\n",
       "      <td>Female</td>\n",
       "      <td>63.485702</td>\n",
       "      <td>129.069106</td>\n",
       "    </tr>\n",
       "    <tr>\n",
       "      <td>4</td>\n",
       "      <td>2</td>\n",
       "      <td>Female</td>\n",
       "      <td>66.309424</td>\n",
       "      <td>139.834826</td>\n",
       "    </tr>\n",
       "    <tr>\n",
       "      <td>5</td>\n",
       "      <td>3</td>\n",
       "      <td>Female</td>\n",
       "      <td>66.691880</td>\n",
       "      <td>151.812907</td>\n",
       "    </tr>\n",
       "    <tr>\n",
       "      <td>6</td>\n",
       "      <td>9</td>\n",
       "      <td>Female</td>\n",
       "      <td>64.821574</td>\n",
       "      <td>155.008924</td>\n",
       "    </tr>\n",
       "    <tr>\n",
       "      <td>7</td>\n",
       "      <td>7</td>\n",
       "      <td>Female</td>\n",
       "      <td>66.791463</td>\n",
       "      <td>162.020486</td>\n",
       "    </tr>\n",
       "    <tr>\n",
       "      <td>8</td>\n",
       "      <td>1</td>\n",
       "      <td>Female</td>\n",
       "      <td>67.022934</td>\n",
       "      <td>181.793069</td>\n",
       "    </tr>\n",
       "    <tr>\n",
       "      <td>9</td>\n",
       "      <td>0</td>\n",
       "      <td>Male</td>\n",
       "      <td>74.529455</td>\n",
       "      <td>225.540079</td>\n",
       "    </tr>\n",
       "  </tbody>\n",
       "</table>\n",
       "</div>"
      ],
      "text/plain": [
       "   Unnamed: 0  Gender     Height      Weight\n",
       "0           5  Female  58.632720  102.469087\n",
       "1           6  Female  62.020105  122.153980\n",
       "2           4  Female  62.396154  127.032748\n",
       "3           8  Female  63.485702  129.069106\n",
       "4           2  Female  66.309424  139.834826\n",
       "5           3  Female  66.691880  151.812907\n",
       "6           9  Female  64.821574  155.008924\n",
       "7           7  Female  66.791463  162.020486\n",
       "8           1  Female  67.022934  181.793069\n",
       "9           0    Male  74.529455  225.540079"
      ]
     },
     "execution_count": 177,
     "metadata": {},
     "output_type": "execute_result"
    }
   ],
   "source": [
    "sd = pd.read_csv('sampledata.csv')\n",
    "sd"
   ]
  },
  {
   "cell_type": "code",
   "execution_count": 183,
   "metadata": {},
   "outputs": [
    {
     "ename": "AttributeError",
     "evalue": "'BarContainer' object has no attribute 'spines'",
     "output_type": "error",
     "traceback": [
      "\u001b[1;31m---------------------------------------------------------------------------\u001b[0m",
      "\u001b[1;31mAttributeError\u001b[0m                            Traceback (most recent call last)",
      "\u001b[1;32m<ipython-input-183-9966cf62bcad>\u001b[0m in \u001b[0;36m<module>\u001b[1;34m\u001b[0m\n\u001b[0;32m      5\u001b[0m \u001b[0mplt\u001b[0m\u001b[1;33m.\u001b[0m\u001b[0mtitle\u001b[0m\u001b[1;33m(\u001b[0m\u001b[1;34m'Body healthy ratio '\u001b[0m\u001b[1;33m)\u001b[0m\u001b[1;33m\u001b[0m\u001b[1;33m\u001b[0m\u001b[0m\n\u001b[0;32m      6\u001b[0m \u001b[1;33m\u001b[0m\u001b[0m\n\u001b[1;32m----> 7\u001b[1;33m \u001b[0mbar1\u001b[0m\u001b[1;33m.\u001b[0m\u001b[0mspines\u001b[0m\u001b[1;33m[\u001b[0m\u001b[1;34m'top'\u001b[0m\u001b[1;33m]\u001b[0m\u001b[1;33m.\u001b[0m\u001b[0mset_visible\u001b[0m\u001b[1;33m(\u001b[0m\u001b[1;32mFalse\u001b[0m\u001b[1;33m)\u001b[0m\u001b[1;33m\u001b[0m\u001b[1;33m\u001b[0m\u001b[0m\n\u001b[0m",
      "\u001b[1;31mAttributeError\u001b[0m: 'BarContainer' object has no attribute 'spines'"
     ]
    },
    {
     "data": {
      "image/png": "[encoded data removed]",
      "text/plain": [
       "<Figure size 432x288 with 1 Axes>"
      ]
     },
     "metadata": {
      "needs_background": "light"
     },
     "output_type": "display_data"
    }
   ],
   "source": [
    "bar1 = plt.bar('Height', 'Weight', data= sd, width=0.8)\n",
    "plt.xlabel('Height')\n",
    "plt.xticks(rotation = 30)\n",
    "plt.ylabel('Weight')\n",
    "plt.title('Body healthy ratio ')\n",
    "\n",
    "bar1.spines['top'].set_visible(False)\n"
   ]
  }
 ],
 "metadata": {
  "kernelspec": {
   "display_name": "Python 3",
   "language": "python",
   "name": "python3"
  },
  "language_info": {
   "codemirror_mode": {
    "name": "ipython",
    "version": 3
   },
   "file_extension": ".py",
   "mimetype": "text/x-python",
   "name": "python",
   "nbconvert_exporter": "python",
   "pygments_lexer": "ipython3",
   "version": "3.7.4"
  }
 },
 "nbformat": 4,
 "nbformat_minor": 2
}
